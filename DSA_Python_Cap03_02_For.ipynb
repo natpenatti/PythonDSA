{
  "cells": [
    {
      "cell_type": "markdown",
      "metadata": {
        "id": "view-in-github",
        "colab_type": "text"
      },
      "source": [
        "<a href=\"https://colab.research.google.com/github/natpenatti/PythonDSA/blob/main/DSA_Python_Cap03_02_For.ipynb\" target=\"_parent\"><img src=\"https://colab.research.google.com/assets/colab-badge.svg\" alt=\"Open In Colab\"/></a>"
      ]
    },
    {
      "cell_type": "markdown",
      "metadata": {
        "id": "kR3vfRnTa9-P"
      },
      "source": [
        "# <font color='blue'>Data Science Academy - Python Fundamentos - Capítulo 3</font>\n",
        "\n",
        "\n",
        "## Download: http://github.com/dsacademybr"
      ]
    },
    {
      "cell_type": "code",
      "execution_count": null,
      "metadata": {
        "id": "1hwsDcF5a9-S",
        "outputId": "b4ac7dfe-b53c-4780-f335-8b006fab8d06"
      },
      "outputs": [
        {
          "name": "stdout",
          "output_type": "stream",
          "text": [
            "Versão da Linguagem Python Usada Neste Jupyter Notebook: 3.8.8\n"
          ]
        }
      ],
      "source": [
        "# Versão da Linguagem Python\n",
        "from platform import python_version\n",
        "print('Versão da Linguagem Python Usada Neste Jupyter Notebook:', python_version())"
      ]
    },
    {
      "cell_type": "markdown",
      "metadata": {
        "id": "SnzXJZYOa9-W"
      },
      "source": [
        "### Loop For"
      ]
    },
    {
      "cell_type": "code",
      "execution_count": null,
      "metadata": {
        "id": "xeh9HH2La9-W",
        "outputId": "26220e66-9ddf-4606-f9e6-705ccf589ff0"
      },
      "outputs": [
        {
          "name": "stdout",
          "output_type": "stream",
          "text": [
            "2\n",
            "3\n",
            "4\n"
          ]
        }
      ],
      "source": [
        "# Criando uma tupla e imprimindo cada um dos valores\n",
        "tp = (2,3,4)\n",
        "for i in tp:\n",
        "    print(i)"
      ]
    },
    {
      "cell_type": "code",
      "execution_count": null,
      "metadata": {
        "id": "Kf-hGS21a9-Y",
        "outputId": "017f779c-a3b6-431b-f1cf-833badee08b6"
      },
      "outputs": [
        {
          "name": "stdout",
          "output_type": "stream",
          "text": [
            "Leite\n",
            "Frutas\n",
            "Carne\n"
          ]
        }
      ],
      "source": [
        "# Criando uma lista e imprimindo cada um dos valores\n",
        "ListaDoMercado = [\"Leite\", \"Frutas\", \"Carne\"]\n",
        "for i in ListaDoMercado:\n",
        "    print(i)"
      ]
    },
    {
      "cell_type": "code",
      "execution_count": null,
      "metadata": {
        "id": "moy3Tz7Ua9-Z",
        "outputId": "1a7616ec-d213-4a89-ace9-4b2deaa734b6"
      },
      "outputs": [
        {
          "name": "stdout",
          "output_type": "stream",
          "text": [
            "0\n",
            "1\n",
            "2\n",
            "3\n",
            "4\n"
          ]
        }
      ],
      "source": [
        "# Imprimindo os valores no intervalo entre 0 e 5 (exclusive)\n",
        "for contador in range(0,5):\n",
        "    print(contador)"
      ]
    },
    {
      "cell_type": "code",
      "execution_count": null,
      "metadata": {
        "id": "asfln15sa9-Z",
        "outputId": "95ff6782-d5f7-49bb-d20f-3b9c99ba4c80"
      },
      "outputs": [
        {
          "name": "stdout",
          "output_type": "stream",
          "text": [
            "2\n",
            "4\n",
            "6\n",
            "8\n",
            "10\n"
          ]
        }
      ],
      "source": [
        "# Imprimindo na tela os números pares da lista de números\n",
        "lista = [1,2,3,4,5,6,7,8,9,10]\n",
        "for num in lista:\n",
        "    if num % 2 == 0:\n",
        "        print (num)"
      ]
    },
    {
      "cell_type": "code",
      "execution_count": null,
      "metadata": {
        "id": "vT1pVgKUa9-a",
        "outputId": "46894163-8750-45ca-f4ff-470be79e369c"
      },
      "outputs": [
        {
          "name": "stdout",
          "output_type": "stream",
          "text": [
            "0\n",
            "2\n",
            "4\n",
            "6\n",
            "8\n",
            "10\n",
            "12\n",
            "14\n",
            "16\n",
            "18\n",
            "20\n",
            "22\n",
            "24\n",
            "26\n",
            "28\n",
            "30\n",
            "32\n",
            "34\n",
            "36\n",
            "38\n",
            "40\n",
            "42\n",
            "44\n",
            "46\n",
            "48\n",
            "50\n",
            "52\n",
            "54\n",
            "56\n",
            "58\n",
            "60\n",
            "62\n",
            "64\n",
            "66\n",
            "68\n",
            "70\n",
            "72\n",
            "74\n",
            "76\n",
            "78\n",
            "80\n",
            "82\n",
            "84\n",
            "86\n",
            "88\n",
            "90\n",
            "92\n",
            "94\n",
            "96\n",
            "98\n",
            "100\n"
          ]
        }
      ],
      "source": [
        "# Listando os números no intervalo entre 0 e 101, com incremento em 2\n",
        "for i in range(0,101,2):  \n",
        "    print(i)"
      ]
    },
    {
      "cell_type": "code",
      "execution_count": null,
      "metadata": {
        "id": "3JirCLLGa9-b",
        "outputId": "893dd7b1-b386-458a-f74d-45396d9bbdec"
      },
      "outputs": [
        {
          "name": "stdout",
          "output_type": "stream",
          "text": [
            "P\n",
            "y\n",
            "t\n",
            "h\n",
            "o\n",
            "n\n",
            " \n",
            "é\n",
            " \n",
            "u\n",
            "m\n",
            "a\n",
            " \n",
            "l\n",
            "i\n",
            "n\n",
            "g\n",
            "u\n",
            "a\n",
            "g\n",
            "e\n",
            "m\n",
            " \n",
            "d\n",
            "e\n",
            " \n",
            "p\n",
            "r\n",
            "o\n",
            "g\n",
            "r\n",
            "a\n",
            "m\n",
            "a\n",
            "ç\n",
            "ã\n",
            "o\n",
            " \n",
            "d\n",
            "i\n",
            "v\n",
            "e\n",
            "r\n",
            "t\n",
            "i\n",
            "d\n",
            "a\n",
            "!\n"
          ]
        }
      ],
      "source": [
        "# Strings também são sequências\n",
        "for caracter in 'Python é uma linguagem de programação divertida!':\n",
        "    print (caracter)"
      ]
    },
    {
      "cell_type": "markdown",
      "metadata": {
        "id": "1p3banRra9-d"
      },
      "source": [
        "### Loops Aninhados"
      ]
    },
    {
      "cell_type": "code",
      "execution_count": null,
      "metadata": {
        "id": "At_3Xi_La9-d",
        "outputId": "fd15ce92-b1f8-4bca-dc73-e0d3d7339393"
      },
      "outputs": [
        {
          "name": "stdout",
          "output_type": "stream",
          "text": [
            "0\n",
            "1\n",
            "0\n",
            "1\n",
            "0\n",
            "1\n",
            "0\n",
            "1\n",
            "0\n",
            "1\n"
          ]
        }
      ],
      "source": [
        "# Loops aninhados\n",
        "for i in range(0,5):\n",
        "    for a in range(0,2):\n",
        "        print(a)"
      ]
    },
    {
      "cell_type": "code",
      "execution_count": null,
      "metadata": {
        "id": "NBKHUDZwa9-e",
        "outputId": "648407bc-7a5d-402f-b767-37277ffab669"
      },
      "outputs": [
        {
          "name": "stdout",
          "output_type": "stream",
          "text": [
            "462\n"
          ]
        }
      ],
      "source": [
        "# Operando os valores de uma lista com loop for\n",
        "listaB = [32,53,85,10,15,17,19]\n",
        "soma = 0\n",
        "for i in listaB:\n",
        "    double_i = i * 2\n",
        "    soma += double_i\n",
        "\n",
        "print(soma)"
      ]
    },
    {
      "cell_type": "code",
      "execution_count": null,
      "metadata": {
        "id": "8FVso3jGa9-f",
        "outputId": "26f0e5b3-a6b6-426a-c20d-7ffb30926937"
      },
      "outputs": [
        {
          "name": "stdout",
          "output_type": "stream",
          "text": [
            "73\n"
          ]
        }
      ],
      "source": [
        "listaNat = [1, 2, 3, 8, 9, 10]\n",
        "sub = 100\n",
        "for a in listaNat:\n",
        "    sub_a = a - 1\n",
        "    sub = sub - sub_a\n",
        "print(sub)"
      ]
    },
    {
      "cell_type": "code",
      "execution_count": null,
      "metadata": {
        "id": "89r8AJ3ja9-f",
        "outputId": "3e25596d-8368-4ddf-b6a4-95d5f76c7847"
      },
      "outputs": [
        {
          "name": "stdout",
          "output_type": "stream",
          "text": [
            "a\n",
            "Tô no for do z\n",
            "Tô no for do x\n",
            "Tô no for do x\n",
            "Tô no for do z\n",
            "Tô no for do x\n",
            "Tô no for do x\n",
            "Tô no for do z\n",
            "Tô no for do x\n",
            "Tô no for do x\n",
            "b\n",
            "Tô no for do z\n",
            "Tô no for do x\n",
            "Tô no for do x\n",
            "Tô no for do z\n",
            "Tô no for do x\n",
            "Tô no for do x\n",
            "Tô no for do z\n",
            "Tô no for do x\n",
            "Tô no for do x\n",
            "c\n",
            "Tô no for do z\n",
            "Tô no for do x\n",
            "Tô no for do x\n",
            "Tô no for do z\n",
            "Tô no for do x\n",
            "Tô no for do x\n",
            "Tô no for do z\n",
            "Tô no for do x\n",
            "Tô no for do x\n"
          ]
        }
      ],
      "source": [
        "lista = ['a', 'b', 'c']\n",
        "for contador in lista:\n",
        "    print(contador)\n",
        "    for z in range(0,3):\n",
        "        print('Tô no for do z')\n",
        "        for x in range(0,2):\n",
        "            print('Tô no for do x')\n"
      ]
    },
    {
      "cell_type": "code",
      "execution_count": null,
      "metadata": {
        "id": "SN1t2YEEa9-g",
        "outputId": "c91244f2-cf8d-4410-a9d4-76701f1595fe"
      },
      "outputs": [
        {
          "name": "stdout",
          "output_type": "stream",
          "text": [
            "0 É par.\n",
            "1 É ímpar.\n",
            "2 É par.\n",
            "3 É ímpar.\n",
            "4 É par.\n",
            "5 É ímpar.\n",
            "6 É par.\n",
            "7 É ímpar.\n",
            "8 É par.\n",
            "9 É ímpar.\n",
            "10 É par.\n",
            "22 É par.\n",
            "33 É ímpar.\n",
            "13 É ímpar.\n"
          ]
        }
      ],
      "source": [
        "listaParImpar = [0, 1, 2, 3, 4, 5, 6, 7, 8, 9, 10, 22, 33, 13]\n",
        "for indice in listaParImpar:\n",
        "    if((indice%2) == 0):\n",
        "        print(indice, 'É par.')\n",
        "    else:\n",
        "        print(indice, 'É ímpar.')"
      ]
    },
    {
      "cell_type": "code",
      "execution_count": null,
      "metadata": {
        "id": "jXGf7CcXa9-h",
        "outputId": "62de63e5-378d-428f-94c0-e9a6a3569750"
      },
      "outputs": [
        {
          "name": "stdout",
          "output_type": "stream",
          "text": [
            "2 É múltiplo de 2\n",
            "3 Não é múltiplo de 2\n",
            "4 É múltiplo de 2\n",
            "6 É múltiplo de 2\n",
            "8 É múltiplo de 2\n",
            "9 Não é múltiplo de 2\n"
          ]
        }
      ],
      "source": [
        "listaPar = [2, 3, 4, 6, 8, 9]\n",
        "for div2 in listaPar:\n",
        "    if((div2 %2) == 0):\n",
        "        print(div2, 'É múltiplo de 2')\n",
        "    else:\n",
        "        print(div2, 'Não é múltiplo de 2')"
      ]
    },
    {
      "cell_type": "code",
      "execution_count": null,
      "metadata": {
        "id": "lzCQvqS_a9-h"
      },
      "outputs": [],
      "source": [
        "# Loops em lista de listas\n",
        "listas = [[1,2,3], [10,15,14], [10.1,8.7,2.3]]\n",
        "for valor in listas:\n",
        "    print(valor)"
      ]
    },
    {
      "cell_type": "code",
      "execution_count": null,
      "metadata": {
        "id": "P_7VARUKa9-i"
      },
      "outputs": [],
      "source": [
        "# Contando os itens de uma lista\n",
        "lista = [5,6,10,13,17]\n",
        "count = 0\n",
        "for item in lista:\n",
        "    count += 1\n",
        "    \n",
        "print(count)"
      ]
    },
    {
      "cell_type": "code",
      "execution_count": null,
      "metadata": {
        "id": "n3WY0aNla9-i"
      },
      "outputs": [],
      "source": [
        "# Contando o número de colunas\n",
        "lst = [[1,2,3],[3,4,5],[5,6,7]]\n",
        "primeira_linha = lst[0]\n",
        "count = 0\n",
        "for column in primeira_linha:\n",
        "    count = count + 1\n",
        "    \n",
        "print(count)"
      ]
    },
    {
      "cell_type": "code",
      "execution_count": null,
      "metadata": {
        "id": "kCHM83ALa9-i"
      },
      "outputs": [],
      "source": [
        "# Pesquisando em listas\n",
        "listaC = [5, 6, 7, 10, 50]\n",
        "\n",
        "# Loop através da lista\n",
        "for item in listaC:\n",
        "    if item == 5:\n",
        "        print(\"Número encontrado na lista!\")"
      ]
    },
    {
      "cell_type": "code",
      "execution_count": null,
      "metadata": {
        "id": "owLufuzla9-j"
      },
      "outputs": [],
      "source": [
        "# Listando as chaves de um dicionário\n",
        "dict = {'k1':'Python','k2':'R','k3':'Scala'}\n",
        "for item in dict:\n",
        "    print(item)"
      ]
    },
    {
      "cell_type": "code",
      "execution_count": null,
      "metadata": {
        "id": "dHHo-NnYa9-j"
      },
      "outputs": [],
      "source": [
        "# Imprimindo chave e valor do dicionário. Usando o método items() para retornar os itens de um dicionário\n",
        "for k,v in dict.items():\n",
        "    print (k,v)"
      ]
    },
    {
      "cell_type": "markdown",
      "metadata": {
        "id": "RkjxC4m2a9-j"
      },
      "source": [
        "# Fim"
      ]
    },
    {
      "cell_type": "markdown",
      "metadata": {
        "id": "P38iZFvYa9-k"
      },
      "source": [
        "### Obrigado\n",
        "\n",
        "### Visite o Blog da Data Science Academy - <a href=\"http://blog.dsacademy.com.br\">Blog DSA</a>"
      ]
    }
  ],
  "metadata": {
    "kernelspec": {
      "display_name": "Python 3",
      "language": "python",
      "name": "python3"
    },
    "language_info": {
      "codemirror_mode": {
        "name": "ipython",
        "version": 3
      },
      "file_extension": ".py",
      "mimetype": "text/x-python",
      "name": "python",
      "nbconvert_exporter": "python",
      "pygments_lexer": "ipython3",
      "version": "3.8.8"
    },
    "colab": {
      "name": "DSA-Python-Cap03-02-For.ipynb",
      "provenance": [],
      "include_colab_link": true
    }
  },
  "nbformat": 4,
  "nbformat_minor": 0
}